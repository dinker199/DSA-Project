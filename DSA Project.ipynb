{
 "cells": [
  {
   "cell_type": "code",
   "execution_count": 7,
   "id": "d494d47f-58b0-4f10-8c1a-e275887191c6",
   "metadata": {},
   "outputs": [
    {
     "name": "stdout",
     "output_type": "stream",
     "text": [
      "Friend recommendations for Alice:\n",
      "Eve (Score: 4, Location: Delhi, Interests: ['tech', 'music', 'reading'])\n",
      "David (Score: 3, Location: Noida, Interests: ['sports', 'tech'])\n"
     ]
    }
   ],
   "source": [
    "class SocialNetwork:\n",
    "    def __init__(self):\n",
    "        self.graph = {}  # adjacency list\n",
    "        self.profiles = {}  # user profiles\n",
    "\n",
    "    def add_user(self, user, age=None, location=None, interests=None):\n",
    "        if user not in self.graph:\n",
    "            self.graph[user] = set()\n",
    "            self.profiles[user] = {\n",
    "                \"age\": age,\n",
    "                \"location\": location,\n",
    "                \"interests\": set(interests) if interests else set()\n",
    "            }\n",
    "\n",
    "    def add_friendship(self, user1, user2):\n",
    "        if user1 in self.graph and user2 in self.graph:\n",
    "            self.graph[user1].add(user2)\n",
    "            self.graph[user2].add(user1)\n",
    "\n",
    "    def recommend_friends(self, user):\n",
    "        if user not in self.graph:\n",
    "            return []\n",
    "\n",
    "        direct_friends = self.graph[user]\n",
    "        recommendations = {}\n",
    "\n",
    "        for friend in direct_friends:\n",
    "            for foaf in self.graph[friend]:  # Friend of a Friend\n",
    "                if foaf != user and foaf not in direct_friends:\n",
    "                    # Calculate mutual friends score\n",
    "                    recommendations.setdefault(foaf, 0)\n",
    "                    recommendations[foaf] += 2  # weight for mutual friend\n",
    "\n",
    "        # Add bonus for common interests\n",
    "        user_interests = self.profiles[user][\"interests\"]\n",
    "        for candidate in recommendations:\n",
    "            common_interests = len(user_interests.intersection(self.profiles[candidate][\"interests\"]))\n",
    "            recommendations[candidate] += common_interests  # weight for shared interests\n",
    "\n",
    "        # Sort by score descending\n",
    "        sorted_recommendations = sorted(recommendations.items(), key=lambda x: x[1], reverse=True)\n",
    "        return sorted_recommendations\n",
    "\n",
    "    def show_profile(self, user):\n",
    "        if user in self.profiles:\n",
    "            return self.profiles[user]\n",
    "        return None\n",
    "\n",
    "\n",
    "# ---- Demo ----\n",
    "network = SocialNetwork()\n",
    "\n",
    "# Adding users with profiles\n",
    "network.add_user(\"Alice\", age=25, location=\"Delhi\", interests=[\"music\", \"tech\", \"travel\"])\n",
    "network.add_user(\"Bob\", age=27, location=\"Delhi\", interests=[\"tech\", \"sports\"])\n",
    "network.add_user(\"Charlie\", age=24, location=\"Gurgaon\", interests=[\"music\", \"movies\"])\n",
    "network.add_user(\"David\", age=28, location=\"Noida\", interests=[\"sports\", \"tech\"])\n",
    "network.add_user(\"Eve\", age=26, location=\"Delhi\", interests=[\"music\", \"tech\", \"reading\"])\n",
    "network.add_user(\"Frank\", age=29, location=\"Gurgaon\", interests=[\"travel\", \"reading\"])\n",
    "\n",
    "# Adding friendships\n",
    "network.add_friendship(\"Alice\", \"Bob\")\n",
    "network.add_friendship(\"Alice\", \"Charlie\")\n",
    "network.add_friendship(\"Bob\", \"David\")\n",
    "network.add_friendship(\"Charlie\", \"Eve\")\n",
    "network.add_friendship(\"David\", \"Eve\")\n",
    "network.add_friendship(\"Eve\", \"Frank\")\n",
    "\n",
    "# Recommend friends for Alice\n",
    "print(\"Friend recommendations for Alice:\")\n",
    "for user, score in network.recommend_friends(\"Alice\"):\n",
    "    profile = network.show_profile(user)\n",
    "    print(f\"{user} (Score: {score}, Location: {profile['location']}, Interests: {list(profile['interests'])})\")"
   ]
  },
  {
   "cell_type": "code",
   "execution_count": null,
   "id": "e48bb226-f775-497e-a18b-dc0ca04f96d0",
   "metadata": {},
   "outputs": [],
   "source": []
  }
 ],
 "metadata": {
  "kernelspec": {
   "display_name": "Python 3 (ipykernel)",
   "language": "python",
   "name": "python3"
  },
  "language_info": {
   "codemirror_mode": {
    "name": "ipython",
    "version": 3
   },
   "file_extension": ".py",
   "mimetype": "text/x-python",
   "name": "python",
   "nbconvert_exporter": "python",
   "pygments_lexer": "ipython3",
   "version": "3.12.2"
  }
 },
 "nbformat": 4,
 "nbformat_minor": 5
}
